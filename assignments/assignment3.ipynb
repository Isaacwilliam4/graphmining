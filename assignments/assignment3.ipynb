{
 "cells": [
  {
   "cell_type": "code",
   "execution_count": 54,
   "metadata": {},
   "outputs": [],
   "source": [
    "import networkx as nx \n",
    "from networkx import Graph, DiGraph\n",
    "import pandas as pd\n",
    "import time\n",
    "from scipy.stats import pearsonr\n",
    "import seaborn as sns\n",
    "import matplotlib.pyplot as plt\n",
    "import numpy as np"
   ]
  },
  {
   "cell_type": "markdown",
   "metadata": {},
   "source": [
    "# Question 1"
   ]
  },
  {
   "cell_type": "code",
   "execution_count": 4,
   "metadata": {},
   "outputs": [
    {
     "data": {
      "text/html": [
       "<div>\n",
       "<style scoped>\n",
       "    .dataframe tbody tr th:only-of-type {\n",
       "        vertical-align: middle;\n",
       "    }\n",
       "\n",
       "    .dataframe tbody tr th {\n",
       "        vertical-align: top;\n",
       "    }\n",
       "\n",
       "    .dataframe thead th {\n",
       "        text-align: right;\n",
       "    }\n",
       "</style>\n",
       "<table border=\"1\" class=\"dataframe\">\n",
       "  <thead>\n",
       "    <tr style=\"text-align: right;\">\n",
       "      <th></th>\n",
       "      <th>node_1</th>\n",
       "      <th>node_2</th>\n",
       "    </tr>\n",
       "  </thead>\n",
       "  <tbody>\n",
       "    <tr>\n",
       "      <th>0</th>\n",
       "      <td>0</td>\n",
       "      <td>747</td>\n",
       "    </tr>\n",
       "    <tr>\n",
       "      <th>1</th>\n",
       "      <td>1</td>\n",
       "      <td>4257</td>\n",
       "    </tr>\n",
       "    <tr>\n",
       "      <th>2</th>\n",
       "      <td>1</td>\n",
       "      <td>2194</td>\n",
       "    </tr>\n",
       "    <tr>\n",
       "      <th>3</th>\n",
       "      <td>1</td>\n",
       "      <td>580</td>\n",
       "    </tr>\n",
       "    <tr>\n",
       "      <th>4</th>\n",
       "      <td>1</td>\n",
       "      <td>6478</td>\n",
       "    </tr>\n",
       "  </tbody>\n",
       "</table>\n",
       "</div>"
      ],
      "text/plain": [
       "   node_1  node_2\n",
       "0       0     747\n",
       "1       1    4257\n",
       "2       1    2194\n",
       "3       1     580\n",
       "4       1    6478"
      ]
     },
     "execution_count": 4,
     "metadata": {},
     "output_type": "execute_result"
    }
   ],
   "source": [
    "asia_df = pd.read_csv('../data/lastfm_asia_edges.csv')\n",
    "asia_df.head()"
   ]
  },
  {
   "cell_type": "code",
   "execution_count": 8,
   "metadata": {},
   "outputs": [
    {
     "data": {
      "text/plain": [
       "array([[   0,  747],\n",
       "       [   1, 4257],\n",
       "       [   1, 2194],\n",
       "       ...,\n",
       "       [7533, 7536],\n",
       "       [7569, 7587],\n",
       "       [7580, 7595]], shape=(27806, 2))"
      ]
     },
     "execution_count": 8,
     "metadata": {},
     "output_type": "execute_result"
    }
   ],
   "source": [
    "asia_df.values"
   ]
  },
  {
   "cell_type": "code",
   "execution_count": 11,
   "metadata": {},
   "outputs": [
    {
     "name": "stdout",
     "output_type": "stream",
     "text": [
      "Graph with 7624 nodes and 27806 edges\n"
     ]
    }
   ],
   "source": [
    "asia_graph = Graph()\n",
    "asia_graph.add_edges_from(asia_df.values)\n",
    "print(asia_graph)"
   ]
  },
  {
   "cell_type": "code",
   "execution_count": 15,
   "metadata": {},
   "outputs": [
    {
     "name": "stdout",
     "output_type": "stream",
     "text": [
      "starting degree centrality\n",
      "Finished degree, centrality, time: 0.0069522857666015625\n",
      "starting eigenvector centrality\n",
      "Finished eigenvector, centrality, time: 0.8550238609313965\n",
      "starting katz centrality\n",
      "Finished katz, centrality, time: 0.6599338054656982\n",
      "starting pagerank centrality\n",
      "Finished pagerank, centrality, time: 0.06800556182861328\n",
      "starting betweenness centrality\n",
      "Finished betweenness, centrality, time: 379.03573870658875\n",
      "starting closeness centrality\n",
      "Finished closeness, centrality, time: 77.46279740333557\n"
     ]
    }
   ],
   "source": [
    "centralities = dict(degree=lambda x:nx.degree_centrality(x),\n",
    "                    eigenvector=lambda x: nx.eigenvector_centrality(x),\n",
    "                    katz=lambda x:nx.katz_centrality(x),\n",
    "                    pagerank=lambda x:nx.pagerank(x),\n",
    "                    betweenness=lambda x:nx.betweenness_centrality(x),\n",
    "                    closeness=lambda x:nx.closeness_centrality(x))\n",
    "\n",
    "centrality_results = []\n",
    "\n",
    "for key,val in centralities.items():\n",
    "    start = time.time()\n",
    "    print(f\"Starting {key} centrality\")\n",
    "    if key==\"katz\":\n",
    "        asia_digraph = DiGraph()\n",
    "        asia_digraph.add_edges_from(asia_df.values)\n",
    "        result = val(asia_digraph)\n",
    "    else:\n",
    "        result = val(asia_graph)\n",
    "    print(f\"Finished {key} centrality, time: {time.time() - start}\")\n",
    "    centrality_results.append(result.values())"
   ]
  },
  {
   "cell_type": "code",
   "execution_count": 43,
   "metadata": {},
   "outputs": [
    {
     "data": {
      "text/html": [
       "<div>\n",
       "<style scoped>\n",
       "    .dataframe tbody tr th:only-of-type {\n",
       "        vertical-align: middle;\n",
       "    }\n",
       "\n",
       "    .dataframe tbody tr th {\n",
       "        vertical-align: top;\n",
       "    }\n",
       "\n",
       "    .dataframe thead th {\n",
       "        text-align: right;\n",
       "    }\n",
       "</style>\n",
       "<table border=\"1\" class=\"dataframe\">\n",
       "  <thead>\n",
       "    <tr style=\"text-align: right;\">\n",
       "      <th></th>\n",
       "      <th>degree</th>\n",
       "      <th>eigenvector</th>\n",
       "      <th>katz</th>\n",
       "      <th>pagerank</th>\n",
       "      <th>betweenness</th>\n",
       "      <th>closeness</th>\n",
       "    </tr>\n",
       "  </thead>\n",
       "  <tbody>\n",
       "    <tr>\n",
       "      <th>degree</th>\n",
       "      <td>1.000000</td>\n",
       "      <td>0.473267</td>\n",
       "      <td>0.608252</td>\n",
       "      <td>0.954481</td>\n",
       "      <td>0.651081</td>\n",
       "      <td>0.561755</td>\n",
       "    </tr>\n",
       "    <tr>\n",
       "      <th>eigenvector</th>\n",
       "      <td>0.473267</td>\n",
       "      <td>1.000000</td>\n",
       "      <td>0.480827</td>\n",
       "      <td>0.354206</td>\n",
       "      <td>0.222756</td>\n",
       "      <td>0.288438</td>\n",
       "    </tr>\n",
       "    <tr>\n",
       "      <th>katz</th>\n",
       "      <td>0.608252</td>\n",
       "      <td>0.480827</td>\n",
       "      <td>1.000000</td>\n",
       "      <td>0.537027</td>\n",
       "      <td>0.440591</td>\n",
       "      <td>0.392195</td>\n",
       "    </tr>\n",
       "    <tr>\n",
       "      <th>pagerank</th>\n",
       "      <td>0.954481</td>\n",
       "      <td>0.354206</td>\n",
       "      <td>0.537027</td>\n",
       "      <td>1.000000</td>\n",
       "      <td>0.720708</td>\n",
       "      <td>0.502923</td>\n",
       "    </tr>\n",
       "    <tr>\n",
       "      <th>betweenness</th>\n",
       "      <td>0.651081</td>\n",
       "      <td>0.222756</td>\n",
       "      <td>0.440591</td>\n",
       "      <td>0.720708</td>\n",
       "      <td>1.000000</td>\n",
       "      <td>0.331302</td>\n",
       "    </tr>\n",
       "    <tr>\n",
       "      <th>closeness</th>\n",
       "      <td>0.561755</td>\n",
       "      <td>0.288438</td>\n",
       "      <td>0.392195</td>\n",
       "      <td>0.502923</td>\n",
       "      <td>0.331302</td>\n",
       "      <td>1.000000</td>\n",
       "    </tr>\n",
       "  </tbody>\n",
       "</table>\n",
       "</div>"
      ],
      "text/plain": [
       "               degree  eigenvector      katz  pagerank  betweenness  closeness\n",
       "degree       1.000000     0.473267  0.608252  0.954481     0.651081   0.561755\n",
       "eigenvector  0.473267     1.000000  0.480827  0.354206     0.222756   0.288438\n",
       "katz         0.608252     0.480827  1.000000  0.537027     0.440591   0.392195\n",
       "pagerank     0.954481     0.354206  0.537027  1.000000     0.720708   0.502923\n",
       "betweenness  0.651081     0.222756  0.440591  0.720708     1.000000   0.331302\n",
       "closeness    0.561755     0.288438  0.392195  0.502923     0.331302   1.000000"
      ]
     },
     "execution_count": 43,
     "metadata": {},
     "output_type": "execute_result"
    }
   ],
   "source": [
    "cols = list(centralities.keys())\n",
    "stats_df = []\n",
    "for cent1 in centrality_results:\n",
    "    results = []\n",
    "    for cent2 in centrality_results:\n",
    "        results.append(pearsonr(list(cent1), list(cent2)))\n",
    "    row = {col:res[0] for col,res in zip(cols, results)}\n",
    "    stats_df.append(row)\n",
    "stats_df = pd.DataFrame(stats_df, index=cols)\n",
    "stats_df.head(10)"
   ]
  },
  {
   "cell_type": "markdown",
   "metadata": {},
   "source": [
    "It seems the centralities with the highest correlation are pagerank and degree centrality. While the least correlated centralities are betweenness and eigenvector centrality."
   ]
  },
  {
   "cell_type": "code",
   "execution_count": 52,
   "metadata": {},
   "outputs": [
    {
     "data": {
      "image/png": "[encoded data removed]",
      "text/plain": [
       "<Figure size 640x480 with 1 Axes>"
      ]
     },
     "metadata": {},
     "output_type": "display_data"
    }
   ],
   "source": [
    "for col, cent in zip(cols, centrality_results):\n",
    "    sns.ecdfplot(list(cent), label=col)\n",
    "plt.legend()\n",
    "plt.show()"
   ]
  },
  {
   "cell_type": "markdown",
   "metadata": {},
   "source": [
    "# Question 2"
   ]
  },
  {
   "cell_type": "code",
   "execution_count": 193,
   "metadata": {},
   "outputs": [
    {
     "name": "stdout",
     "output_type": "stream",
     "text": [
      "DiGraph with 6 nodes and 10 edges\n"
     ]
    }
   ],
   "source": [
    "graph = DiGraph()\n",
    "graph.add_edges_from([\n",
    "    (2,1),\n",
    "    (1,3),\n",
    "    (3,1),\n",
    "    (1,4),\n",
    "    (4,1),\n",
    "    (3,2),\n",
    "    (5,4),\n",
    "    (2,5),\n",
    "    (5,6),\n",
    "    (6,2)\n",
    "                      ])\n",
    "\n",
    "print(graph)"
   ]
  },
  {
   "cell_type": "code",
   "execution_count": 219,
   "metadata": {},
   "outputs": [],
   "source": [
    "def page_rank(graph:DiGraph, centralities:np.ndarray, alpha:float, beta:np.ndarray, eps:float):\n",
    "    n = len(centralities)\n",
    "    if beta is None:\n",
    "        beta = [0 for _ in range(n)]\n",
    "    new_centralities = np.array([0.0 for _ in range(n)])\n",
    "    for node_i in graph.nodes():\n",
    "        new_centrality_val = 0\n",
    "        for node_j in graph.nodes():\n",
    "            if (node_j, node_i) in graph.edges():\n",
    "                node_j_cent = centralities[node_j-1]\n",
    "                ratio = node_j_cent/graph.out_degree(node_j)\n",
    "                new_centrality_val += ratio\n",
    "        new_centralities[node_i-1] = (alpha*new_centrality_val) + beta[node_i-1]\n",
    "\n",
    "    new_centralities /= sum(new_centralities)\n",
    "    diff_sum = np.sum(np.abs(new_centralities - centralities))\n",
    "    if diff_sum < eps:\n",
    "        return new_centralities\n",
    "            \n",
    "    return page_rank(graph, new_centralities, alpha, beta, eps)"
   ]
  },
  {
   "cell_type": "code",
   "execution_count": 220,
   "metadata": {},
   "outputs": [
    {
     "name": "stdout",
     "output_type": "stream",
     "text": [
      "node 1:0.26133263603473883\n",
      "node 2:0.20770514703131146\n",
      "node 3:0.10295920558215353\n",
      "node 4:0.12199947730453437\n",
      "node 5:0.09184131110536874\n",
      "node 6:0.21416222294189302\n"
     ]
    }
   ],
   "source": [
    "beta = np.array([0.3, 0.2, 0.1, 0.1, 0.1, 0.4])\n",
    "alpha = 0.85\n",
    "n = graph.number_of_nodes()\n",
    "centralities = np.array([1/n for _ in range(n)])\n",
    "result_centralities = page_rank(graph, centralities, alpha, beta, eps=0.00000001)\n",
    "for i,cent in enumerate(result_centralities):\n",
    "    print(f\"node {i+1}:{cent}\")"
   ]
  },
  {
   "cell_type": "markdown",
   "metadata": {},
   "source": [
    "# Question 3"
   ]
  },
  {
   "cell_type": "code",
   "execution_count": 225,
   "metadata": {},
   "outputs": [
    {
     "data": {
      "text/html": [
       "<div>\n",
       "<style scoped>\n",
       "    .dataframe tbody tr th:only-of-type {\n",
       "        vertical-align: middle;\n",
       "    }\n",
       "\n",
       "    .dataframe tbody tr th {\n",
       "        vertical-align: top;\n",
       "    }\n",
       "\n",
       "    .dataframe thead th {\n",
       "        text-align: right;\n",
       "    }\n",
       "</style>\n",
       "<table border=\"1\" class=\"dataframe\">\n",
       "  <thead>\n",
       "    <tr style=\"text-align: right;\">\n",
       "      <th></th>\n",
       "      <th>FromNodeId</th>\n",
       "      <th>ToNodeId</th>\n",
       "    </tr>\n",
       "  </thead>\n",
       "  <tbody>\n",
       "    <tr>\n",
       "      <th>0</th>\n",
       "      <td>1001</td>\n",
       "      <td>9304045</td>\n",
       "    </tr>\n",
       "    <tr>\n",
       "      <th>1</th>\n",
       "      <td>1001</td>\n",
       "      <td>9308122</td>\n",
       "    </tr>\n",
       "    <tr>\n",
       "      <th>2</th>\n",
       "      <td>1001</td>\n",
       "      <td>9309097</td>\n",
       "    </tr>\n",
       "    <tr>\n",
       "      <th>3</th>\n",
       "      <td>1001</td>\n",
       "      <td>9311042</td>\n",
       "    </tr>\n",
       "    <tr>\n",
       "      <th>4</th>\n",
       "      <td>1001</td>\n",
       "      <td>9401139</td>\n",
       "    </tr>\n",
       "  </tbody>\n",
       "</table>\n",
       "</div>"
      ],
      "text/plain": [
       "   FromNodeId  ToNodeId\n",
       "0        1001   9304045\n",
       "1        1001   9308122\n",
       "2        1001   9309097\n",
       "3        1001   9311042\n",
       "4        1001   9401139"
      ]
     },
     "execution_count": 225,
     "metadata": {},
     "output_type": "execute_result"
    }
   ],
   "source": [
    "hept_df = pd.read_csv('../data/cit-HepTh.txt', sep='\\t')\n",
    "hept_df.head()"
   ]
  },
  {
   "cell_type": "code",
   "execution_count": 241,
   "metadata": {},
   "outputs": [],
   "source": [
    "hept_graph = DiGraph()\n",
    "hept_graph.add_edges_from(hept_df.values)\n",
    "hubs, authority = nx.hits(hept_graph)\n",
    "hubs = dict(sorted(hubs.items(), key=lambda x:x[1], reverse=True))\n",
    "authority = dict(sorted(authority.items(), key=lambda x:x[1], reverse=True))"
   ]
  },
  {
   "cell_type": "code",
   "execution_count": 244,
   "metadata": {},
   "outputs": [],
   "source": [
    "best_hubs = []\n",
    "best_authority = []\n",
    "\n",
    "num_best = 3\n",
    "for i, (key,val) in enumerate(hubs.items()):\n",
    "    if i >= num_best:\n",
    "        break\n",
    "    best_hubs.append(key)\n",
    "for i, (key,val) in enumerate(authority.items()):\n",
    "    if i >= num_best:\n",
    "        break\n",
    "    best_authority.append(key)"
   ]
  },
  {
   "cell_type": "code",
   "execution_count": 247,
   "metadata": {},
   "outputs": [
    {
     "name": "stdout",
     "output_type": "stream",
     "text": [
      "Best hubs [9905111, 110055, 7170]\n",
      "Best authority [9711200, 9802150, 9802109]\n"
     ]
    }
   ],
   "source": [
    "print(\"Best hubs\", [int(x) for x in best_hubs])\n",
    "print(\"Best authority\", [int(x) for x in best_authority])"
   ]
  },
  {
   "cell_type": "code",
   "execution_count": 254,
   "metadata": {},
   "outputs": [],
   "source": [
    "import os\n",
    "from pathlib import Path\n",
    "\n",
    "def print_abstract(node_id):\n",
    "    folder_path = '../data/citation_abstracts'\n",
    "    for folder in os.listdir(folder_path):\n",
    "        sub_folder = Path(folder_path, folder)\n",
    "        if sub_folder.is_dir():\n",
    "            for filename in os.listdir(sub_folder):\n",
    "                if str(node_id) in filename:\n",
    "                    filename = Path(sub_folder, filename)\n",
    "                    with open(filename) as file:\n",
    "                        print(file.read())\n",
    "                    return"
   ]
  },
  {
   "cell_type": "code",
   "execution_count": 255,
   "metadata": {},
   "outputs": [
    {
     "name": "stdout",
     "output_type": "stream",
     "text": [
      "------------------------------------------------------------------------------\n",
      "\\\\\n",
      "Paper: hep-th/9905111\n",
      "From: Juan Maldacena <jmaldac@fas.harvard.edu>\n",
      "Date: Fri, 14 May 1999 21:58:15 GMT   (320kb)\n",
      "Date (revised v2): Mon, 14 Jun 1999 21:40:08 GMT   (321kb)\n",
      "Date (revised v3): Fri, 1 Oct 1999 17:43:02 GMT   (322kb)\n",
      "\n",
      "Title: Large N Field Theories, String Theory and Gravity\n",
      "Authors: O. Aharony, S.S. Gubser, J. Maldacena, H. Ooguri, and Y. Oz\n",
      "Comments: 261 pages, 42 post-script figures. Please send any comment to\n",
      "  jmaldac@fas.harvard.edu. v2: added references and small corrections. v3:\n",
      "  minor changes and corrected discussion of SU(3)-invariant supergravity\n",
      "  solution\n",
      "Report-no: CERN-TH/99-122, HUTP-99/A027, LBNL-43113, RU-99-18, UCB-PTH-99/16\n",
      "Journal-ref: Phys.Rept. 323 (2000) 183-386\n",
      "\\\\\n",
      "  We review the holographic correspondence between field theories and string/M\n",
      "theory, focusing on the relation between compactifications of string/M theory\n",
      "on Anti-de Sitter spaces and conformal field theories. We review the background\n",
      "for this correspondence and discuss its motivations and the evidence for its\n",
      "correctness. We describe the main results that have been derived from the\n",
      "correspondence in the regime that the field theory is approximated by classical\n",
      "or semiclassical gravity. We focus on the case of the N=4 supersymmetric gauge\n",
      "theory in four dimensions, but we discuss also field theories in other\n",
      "dimensions, conformal and non-conformal, with or without supersymmetry, and in\n",
      "particular the relation to QCD. We also discuss some implications for black\n",
      "hole physics.\n",
      "\\\\\n",
      "\n",
      "------------------------------------------------------------------------------\n",
      "\\\\\n",
      "Paper: hep-th/0110055\n",
      "From: Stefan Foerste <forste@th.physik.uni-bonn.de>\n",
      "Date: Fri, 5 Oct 2001 14:00:44 GMT   (229kb)\n",
      "Date (revised v2): Thu, 18 Oct 2001 12:21:52 GMT   (229kb)\n",
      "Date (revised v3): Thu, 3 Jan 2002 14:08:23 GMT   (230kb)\n",
      "\n",
      "Title: Strings, Branes and Extra Dimensions\n",
      "Authors: Stefan Forste\n",
      "Comments: 238 pages, latex (latex master.tex), references added\n",
      "Journal-ref: Fortsch.Phys. 50 (2002) 221-403\n",
      "\\\\\n",
      "  This review is devoted to strings and branes. Firstly, perturbative string\n",
      "theory is introduced. The appearance of various types of branes is discussed.\n",
      "These include orbifold fixed planes, D-branes and orientifold planes. The\n",
      "connection to BPS vacua of supergravity is presented afterwards. As\n",
      "applications, we outline the role of branes in string dualities, field theory\n",
      "dualities, the AdS/CFT correspondence and scenarios where the string scale is\n",
      "at a TeV. Some issues of warped compactifications are also addressed. These\n",
      "comprise corrections to gravitational interactions as well as the cosmological\n",
      "constant problem.\n",
      "\\\\\n",
      "\n",
      "------------------------------------------------------------------------------\n",
      "\\\\\n",
      "Paper: hep-th/9807170\n",
      "From: Duiliu Diaconescu <duiliu@physics.rutgers.edu>\n",
      "Date: Wed, 22 Jul 1998 13:52:05 GMT   (41kb)\n",
      "\n",
      "Title: Calabi-Yau Spaces and Five Dimensional Field Theories with Exceptional\n",
      "  Gauge Symmetry\n",
      "Authors: Duiliu-Emanuel Diaconescu and Rami Entin\n",
      "Comments: Harvmac, 42 pages, 21 Postscript figures\n",
      "Report-no: RU-98-27\n",
      "Journal-ref: Nucl.Phys. B538 (1999) 451-484\n",
      "\\\\\n",
      "  Five dimensional field theories with exceptional gauge groups are engineered\n",
      "from degenerations of Calabi-Yau threefolds. The structure of the Coulomb\n",
      "branch is analyzed in terms of relative K\\\"ahler cones. For low number of\n",
      "flavors, the geometric construction leads to new five dimensional fixed points.\n",
      "\\\\\n",
      "\n"
     ]
    }
   ],
   "source": [
    "for hub in best_hubs:\n",
    "    print_abstract(hub)"
   ]
  },
  {
   "cell_type": "markdown",
   "metadata": {},
   "source": [
    "As can be noted in the hub abstracts above, these are review papers. This naturally follows the intuition that hubs tell us where the best authorities can be found. Review papers typically review other papers on a specific subject and help us understand their legitimacy."
   ]
  },
  {
   "cell_type": "code",
   "execution_count": 256,
   "metadata": {},
   "outputs": [
    {
     "name": "stdout",
     "output_type": "stream",
     "text": [
      "------------------------------------------------------------------------------\n",
      "\\\\\n",
      "Paper: hep-th/9711200\n",
      "From: Juan Maldacena <malda@physics.rutgers.edu>\n",
      "Date: Thu, 27 Nov 1997 23:53:13 GMT   (22kb)\n",
      "Date (revised v2): Mon, 8 Dec 1997 18:59:11 GMT   (23kb)\n",
      "Date (revised v3): Thu, 22 Jan 1998 15:42:41 GMT   (23kb)\n",
      "\n",
      "Title: The Large N Limit of Superconformal Field Theories and Supergravity\n",
      "Authors: Juan M. Maldacena\n",
      "Comments: 20 pages, harvmac, v2: section on AdS_2 corrected, references added,\n",
      "  v3: More references and a sign in eqns 2.8 and 2.9 corrected\n",
      "Report-no: HUTP-98/A097\n",
      "Journal-ref: Adv.Theor.Math.Phys. 2 (1998) 231-252; Int.J.Theor.Phys. 38 (1999)\n",
      "  1113-1133\n",
      "\\\\\n",
      "  We show that the large $N$ limit of certain conformal field theories in\n",
      "various dimensions include in their Hilbert space a sector describing\n",
      "supergravity on the product of Anti-deSitter spacetimes, spheres and other\n",
      "compact manifolds. This is shown by taking some branes in the full M/string\n",
      "theory and then taking a low energy limit where the field theory on the brane\n",
      "decouples from the bulk. We observe that, in this limit, we can still trust the\n",
      "near horizon geometry for large $N$. The enhanced supersymmetries of the near\n",
      "horizon geometry correspond to the extra supersymmetry generators present in\n",
      "the superconformal group (as opposed to just the super-Poincare group). The 't\n",
      "Hooft limit of 4-d ${\\cal N} =4$ super-Yang-Mills at the conformal point is\n",
      "shown to contain strings: they are IIB strings. We conjecture that\n",
      "compactifications of M/string theory on various Anti-deSitter spacetimes are\n",
      "dual to various conformal field theories. This leads to a new proposal for a\n",
      "definition of M-theory which could be extended to include five non-compact\n",
      "dimensions.\n",
      "\\\\\n",
      "\n",
      "------------------------------------------------------------------------------\n",
      "\\\\\n",
      "Paper: hep-th/9802150\n",
      "From: Edward Witten <witten@IAS.EDU>\n",
      "Date: Fri, 20 Feb 1998 22:41:01 GMT   (41kb)\n",
      "Date (revised v2): Mon, 6 Apr 1998 20:45:58 GMT   (42kb)\n",
      "\n",
      "Title: Anti De Sitter Space And Holography\n",
      "Author: Edward Witten\n",
      "Comments: 40 pp.; additional references and assorted corrections\n",
      "Journal-ref: Adv.Theor.Math.Phys. 2 (1998) 253-291\n",
      "\\\\\n",
      "  Recently, it has been proposed by Maldacena that large $N$ limits of certain\n",
      "conformal field theories in $d$ dimensions can be described in terms of\n",
      "supergravity (and string theory) on the product of $d+1$-dimensional $AdS$\n",
      "space with a compact manifold. Here we elaborate on this idea and propose a\n",
      "precise correspondence between conformal field theory observables and those of\n",
      "supergravity: correlation functions in conformal field theory are given by the\n",
      "dependence of the supergravity action on the asymptotic behavior at infinity.\n",
      "In particular, dimensions of operators in conformal field theory are given by\n",
      "masses of particles in supergravity. As quantitative confirmation of this\n",
      "correspondence, we note that the Kaluza-Klein modes of Type IIB supergravity on\n",
      "$AdS_5\\times {\\bf S}^5$ match with the chiral operators of $\\N=4$ super\n",
      "Yang-Mills theory in four dimensions. With some further assumptions, one can\n",
      "deduce a Hamiltonian version of the correspondence and show that the $\\N=4$\n",
      "theory has a large $N$ phase transition related to the thermodynamics of $AdS$\n",
      "black holes.\n",
      "\\\\\n",
      "\n",
      "------------------------------------------------------------------------------\n",
      "\\\\\n",
      "Paper: hep-th/9802109\n",
      "From: klebanov@itp.ucsb.edu (Igor Klebanov)\n",
      "Date: Mon, 16 Feb 1998 18:38:17 GMT   (21kb)\n",
      "Date (revised v2): Fri, 27 Mar 1998 22:25:16 GMT   (33kb)\n",
      "\n",
      "Title: Gauge Theory Correlators from Non-Critical String Theory\n",
      "Authors: S.S. Gubser, I.R. Klebanov and A.M. Polyakov\n",
      "Comments: 15 pages, harvmac with btxmac; minor revisions, 1 reference added,\n",
      "  the version to appear in Physics Letters B\n",
      "Report-no: PUPT-1767\n",
      "Journal-ref: Phys.Lett. B428 (1998) 105-114\n",
      "\\\\\n",
      "  We suggest a means of obtaining certain Green's functions in 3+1-dimensional\n",
      "${\\cal N} = 4$ supersymmetric Yang-Mills theory with a large number of colors\n",
      "via non-critical string theory. The non-critical string theory is related to\n",
      "critical string theory in anti-deSitter background. We introduce a boundary of\n",
      "the anti-deSitter space analogous to a cut-off on the Liouville coordinate of\n",
      "the two-dimensional string theory. Correlation functions of operators in the\n",
      "gauge theory are related to the dependence of the supergravity action on the\n",
      "boundary conditions. From the quadratic terms in supergravity we read off the\n",
      "anomalous dimensions. For operators that couple to massless string states it\n",
      "has been established through absorption calculations that the anomalous\n",
      "dimensions vanish, and we rederive this result. The operators that couple to\n",
      "massive string states at level $n$ acquire anomalous dimensions that grow as\n",
      "$2\\left (n g_{YM} \\sqrt {2 N} )^{1/2}$ for large `t Hooft coupling. This is a\n",
      "new prediction about the strong coupling behavior of large $N$ SYM theory.\n",
      "\\\\\n",
      "\n"
     ]
    }
   ],
   "source": [
    "for authority in best_authority:\n",
    "    print_abstract(authority)"
   ]
  },
  {
   "cell_type": "markdown",
   "metadata": {},
   "source": [
    "Looking on google scholar, the first paper has 25,741 citations, the second has 15,842 citation, and the third has 12,798 citations. This again follows the intuition that authorities give us important information, hence why these are highly cited papers."
   ]
  }
 ],
 "metadata": {
  "kernelspec": {
   "display_name": "graphmining",
   "language": "python",
   "name": "python3"
  },
  "language_info": {
   "codemirror_mode": {
    "name": "ipython",
    "version": 3
   },
   "file_extension": ".py",
   "mimetype": "text/x-python",
   "name": "python",
   "nbconvert_exporter": "python",
   "pygments_lexer": "ipython3",
   "version": "3.10.16"
  }
 },
 "nbformat": 4,
 "nbformat_minor": 2
}
